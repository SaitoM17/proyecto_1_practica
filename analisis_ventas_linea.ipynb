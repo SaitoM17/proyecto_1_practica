{
 "cells": [
  {
   "cell_type": "markdown",
   "metadata": {},
   "source": [
    "🔍 PACE Framework + Python para Análisis de Datos\n",
    "\n",
    "📌 1. Plan (Planificar)\n",
    "\n",
    "Objetivo del Proyecto:\n",
    "\n",
    "Análisis de ventas de una tienda en línea: Vas a realizar un análisis exploratorio de datos (EDA) sobre las ventas de una tienda en línea. El conjunto de datos incluirá información sobre productos, ventas, fechas, precios, categorías y demás variables útiles para el análisis."
   ]
  },
  {
   "cell_type": "code",
   "execution_count": 1,
   "metadata": {},
   "outputs": [],
   "source": [
    "import pandas as pd\n",
    "import matplotlib.pyplot as plt\n",
    "import seaborn as sns\n",
    "import numpy as np"
   ]
  },
  {
   "cell_type": "markdown",
   "metadata": {},
   "source": [
    "📊 2. Analyze (Analizar) - Exploratory Data Analysis (EDA)"
   ]
  },
  {
   "cell_type": "code",
   "execution_count": null,
   "metadata": {},
   "outputs": [
    {
     "data": {
      "text/html": [
       "<div>\n",
       "<style scoped>\n",
       "    .dataframe tbody tr th:only-of-type {\n",
       "        vertical-align: middle;\n",
       "    }\n",
       "\n",
       "    .dataframe tbody tr th {\n",
       "        vertical-align: top;\n",
       "    }\n",
       "\n",
       "    .dataframe thead th {\n",
       "        text-align: right;\n",
       "    }\n",
       "</style>\n",
       "<table border=\"1\" class=\"dataframe\">\n",
       "  <thead>\n",
       "    <tr style=\"text-align: right;\">\n",
       "      <th></th>\n",
       "      <th>OrderID</th>\n",
       "      <th>ProductID</th>\n",
       "      <th>ProductCategory</th>\n",
       "      <th>QuantitySold</th>\n",
       "      <th>UnitPrice</th>\n",
       "      <th>TotalSale</th>\n",
       "      <th>OrderDate</th>\n",
       "      <th>CustomerRegion</th>\n",
       "    </tr>\n",
       "  </thead>\n",
       "  <tbody>\n",
       "    <tr>\n",
       "      <th>0</th>\n",
       "      <td>1</td>\n",
       "      <td>P004</td>\n",
       "      <td>Deportes</td>\n",
       "      <td>5</td>\n",
       "      <td>70.08</td>\n",
       "      <td>350.40</td>\n",
       "      <td>2024-01-01</td>\n",
       "      <td>Este</td>\n",
       "    </tr>\n",
       "    <tr>\n",
       "      <th>1</th>\n",
       "      <td>2</td>\n",
       "      <td>P005</td>\n",
       "      <td>Deportes</td>\n",
       "      <td>4</td>\n",
       "      <td>121.78</td>\n",
       "      <td>487.12</td>\n",
       "      <td>2024-01-02</td>\n",
       "      <td>Norte</td>\n",
       "    </tr>\n",
       "    <tr>\n",
       "      <th>2</th>\n",
       "      <td>3</td>\n",
       "      <td>P003</td>\n",
       "      <td>Electrónica</td>\n",
       "      <td>3</td>\n",
       "      <td>139.77</td>\n",
       "      <td>419.31</td>\n",
       "      <td>2024-01-03</td>\n",
       "      <td>Este</td>\n",
       "    </tr>\n",
       "    <tr>\n",
       "      <th>3</th>\n",
       "      <td>4</td>\n",
       "      <td>P005</td>\n",
       "      <td>Deportes</td>\n",
       "      <td>3</td>\n",
       "      <td>95.87</td>\n",
       "      <td>287.61</td>\n",
       "      <td>2024-01-04</td>\n",
       "      <td>Oeste</td>\n",
       "    </tr>\n",
       "    <tr>\n",
       "      <th>4</th>\n",
       "      <td>5</td>\n",
       "      <td>P005</td>\n",
       "      <td>Hogar</td>\n",
       "      <td>4</td>\n",
       "      <td>145.62</td>\n",
       "      <td>582.48</td>\n",
       "      <td>2024-01-05</td>\n",
       "      <td>Sur</td>\n",
       "    </tr>\n",
       "  </tbody>\n",
       "</table>\n",
       "</div>"
      ],
      "text/plain": [
       "   OrderID ProductID ProductCategory  QuantitySold  UnitPrice  TotalSale  \\\n",
       "0        1      P004        Deportes             5      70.08     350.40   \n",
       "1        2      P005        Deportes             4     121.78     487.12   \n",
       "2        3      P003     Electrónica             3     139.77     419.31   \n",
       "3        4      P005        Deportes             3      95.87     287.61   \n",
       "4        5      P005           Hogar             4     145.62     582.48   \n",
       "\n",
       "    OrderDate CustomerRegion  \n",
       "0  2024-01-01           Este  \n",
       "1  2024-01-02          Norte  \n",
       "2  2024-01-03           Este  \n",
       "3  2024-01-04          Oeste  \n",
       "4  2024-01-05            Sur  "
      ]
     },
     "execution_count": 2,
     "metadata": {},
     "output_type": "execute_result"
    }
   ],
   "source": [
    "# Cargar y explorar los datos\n",
    "df_sales = pd.read_csv('./csv/sales.csv')\n",
    "df_sales.head()"
   ]
  },
  {
   "cell_type": "code",
   "execution_count": 4,
   "metadata": {},
   "outputs": [
    {
     "data": {
      "text/html": [
       "<div>\n",
       "<style scoped>\n",
       "    .dataframe tbody tr th:only-of-type {\n",
       "        vertical-align: middle;\n",
       "    }\n",
       "\n",
       "    .dataframe tbody tr th {\n",
       "        vertical-align: top;\n",
       "    }\n",
       "\n",
       "    .dataframe thead th {\n",
       "        text-align: right;\n",
       "    }\n",
       "</style>\n",
       "<table border=\"1\" class=\"dataframe\">\n",
       "  <thead>\n",
       "    <tr style=\"text-align: right;\">\n",
       "      <th></th>\n",
       "      <th>OrderID</th>\n",
       "      <th>QuantitySold</th>\n",
       "      <th>UnitPrice</th>\n",
       "      <th>TotalSale</th>\n",
       "    </tr>\n",
       "  </thead>\n",
       "  <tbody>\n",
       "    <tr>\n",
       "      <th>count</th>\n",
       "      <td>300.000000</td>\n",
       "      <td>300.00000</td>\n",
       "      <td>300.000000</td>\n",
       "      <td>300.000000</td>\n",
       "    </tr>\n",
       "    <tr>\n",
       "      <th>mean</th>\n",
       "      <td>150.500000</td>\n",
       "      <td>4.82000</td>\n",
       "      <td>108.671900</td>\n",
       "      <td>527.881300</td>\n",
       "    </tr>\n",
       "    <tr>\n",
       "      <th>std</th>\n",
       "      <td>86.746758</td>\n",
       "      <td>2.57482</td>\n",
       "      <td>51.920397</td>\n",
       "      <td>408.109811</td>\n",
       "    </tr>\n",
       "    <tr>\n",
       "      <th>min</th>\n",
       "      <td>1.000000</td>\n",
       "      <td>1.00000</td>\n",
       "      <td>10.440000</td>\n",
       "      <td>18.390000</td>\n",
       "    </tr>\n",
       "    <tr>\n",
       "      <th>25%</th>\n",
       "      <td>75.750000</td>\n",
       "      <td>3.00000</td>\n",
       "      <td>69.177500</td>\n",
       "      <td>184.350000</td>\n",
       "    </tr>\n",
       "    <tr>\n",
       "      <th>50%</th>\n",
       "      <td>150.500000</td>\n",
       "      <td>5.00000</td>\n",
       "      <td>111.300000</td>\n",
       "      <td>422.495000</td>\n",
       "    </tr>\n",
       "    <tr>\n",
       "      <th>75%</th>\n",
       "      <td>225.250000</td>\n",
       "      <td>7.00000</td>\n",
       "      <td>151.447500</td>\n",
       "      <td>751.565000</td>\n",
       "    </tr>\n",
       "    <tr>\n",
       "      <th>max</th>\n",
       "      <td>300.000000</td>\n",
       "      <td>9.00000</td>\n",
       "      <td>199.880000</td>\n",
       "      <td>1796.040000</td>\n",
       "    </tr>\n",
       "  </tbody>\n",
       "</table>\n",
       "</div>"
      ],
      "text/plain": [
       "          OrderID  QuantitySold   UnitPrice    TotalSale\n",
       "count  300.000000     300.00000  300.000000   300.000000\n",
       "mean   150.500000       4.82000  108.671900   527.881300\n",
       "std     86.746758       2.57482   51.920397   408.109811\n",
       "min      1.000000       1.00000   10.440000    18.390000\n",
       "25%     75.750000       3.00000   69.177500   184.350000\n",
       "50%    150.500000       5.00000  111.300000   422.495000\n",
       "75%    225.250000       7.00000  151.447500   751.565000\n",
       "max    300.000000       9.00000  199.880000  1796.040000"
      ]
     },
     "execution_count": 4,
     "metadata": {},
     "output_type": "execute_result"
    }
   ],
   "source": [
    "df_sales.describe()"
   ]
  },
  {
   "cell_type": "code",
   "execution_count": 3,
   "metadata": {},
   "outputs": [
    {
     "name": "stdout",
     "output_type": "stream",
     "text": [
      "<class 'pandas.core.frame.DataFrame'>\n",
      "RangeIndex: 300 entries, 0 to 299\n",
      "Data columns (total 8 columns):\n",
      " #   Column           Non-Null Count  Dtype  \n",
      "---  ------           --------------  -----  \n",
      " 0   OrderID          300 non-null    int64  \n",
      " 1   ProductID        300 non-null    object \n",
      " 2   ProductCategory  300 non-null    object \n",
      " 3   QuantitySold     300 non-null    int64  \n",
      " 4   UnitPrice        300 non-null    float64\n",
      " 5   TotalSale        300 non-null    float64\n",
      " 6   OrderDate        300 non-null    object \n",
      " 7   CustomerRegion   300 non-null    object \n",
      "dtypes: float64(2), int64(2), object(4)\n",
      "memory usage: 18.9+ KB\n"
     ]
    }
   ],
   "source": [
    "df_sales.info()"
   ]
  },
  {
   "cell_type": "code",
   "execution_count": 7,
   "metadata": {},
   "outputs": [
    {
     "data": {
      "text/plain": [
       "OrderID            0\n",
       "ProductID          0\n",
       "ProductCategory    0\n",
       "QuantitySold       0\n",
       "UnitPrice          0\n",
       "TotalSale          0\n",
       "OrderDate          0\n",
       "CustomerRegion     0\n",
       "dtype: int64"
      ]
     },
     "execution_count": 7,
     "metadata": {},
     "output_type": "execute_result"
    }
   ],
   "source": [
    "#verificar valores nulos\n",
    "df_sales.isna() .sum()"
   ]
  },
  {
   "cell_type": "code",
   "execution_count": 8,
   "metadata": {},
   "outputs": [
    {
     "data": {
      "text/plain": [
       "0"
      ]
     },
     "execution_count": 8,
     "metadata": {},
     "output_type": "execute_result"
    }
   ],
   "source": [
    "# Verifiar valores duplicados\n",
    "df_sales.duplicated().sum()"
   ]
  },
  {
   "cell_type": "code",
   "execution_count": 6,
   "metadata": {},
   "outputs": [
    {
     "name": "stdout",
     "output_type": "stream",
     "text": [
      "<class 'pandas.core.frame.DataFrame'>\n",
      "RangeIndex: 300 entries, 0 to 299\n",
      "Data columns (total 8 columns):\n",
      " #   Column           Non-Null Count  Dtype         \n",
      "---  ------           --------------  -----         \n",
      " 0   OrderID          300 non-null    int64         \n",
      " 1   ProductID        300 non-null    object        \n",
      " 2   ProductCategory  300 non-null    object        \n",
      " 3   QuantitySold     300 non-null    int64         \n",
      " 4   UnitPrice        300 non-null    float64       \n",
      " 5   TotalSale        300 non-null    float64       \n",
      " 6   OrderDate        300 non-null    datetime64[ns]\n",
      " 7   CustomerRegion   300 non-null    object        \n",
      "dtypes: datetime64[ns](1), float64(2), int64(2), object(3)\n",
      "memory usage: 18.9+ KB\n"
     ]
    }
   ],
   "source": [
    "# Transformamos la calumna fecha a formato fecha\n",
    "df_sales['OrderDate'] = pd.to_datetime(df_sales['OrderDate'])\n",
    "df_sales.info()"
   ]
  }
 ],
 "metadata": {
  "kernelspec": {
   "display_name": "base",
   "language": "python",
   "name": "python3"
  },
  "language_info": {
   "codemirror_mode": {
    "name": "ipython",
    "version": 3
   },
   "file_extension": ".py",
   "mimetype": "text/x-python",
   "name": "python",
   "nbconvert_exporter": "python",
   "pygments_lexer": "ipython3",
   "version": "3.12.4"
  }
 },
 "nbformat": 4,
 "nbformat_minor": 2
}

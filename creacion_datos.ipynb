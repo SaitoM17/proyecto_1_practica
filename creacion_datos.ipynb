{
 "cells": [
  {
   "cell_type": "code",
   "execution_count": null,
   "metadata": {},
   "outputs": [],
   "source": [
    "# Re-generar el conjunto de datos después del reinicio del entorno\n",
    "\n",
    "import pandas as pd\n",
    "import numpy as np\n",
    "\n",
    "# Fijar una semilla para reproducibilidad\n",
    "np.random.seed(42)\n",
    "\n",
    "# Generar datos ficticios para el conjunto de datos\n",
    "order_ids = np.arange(1, 301)\n",
    "product_ids = np.random.choice(['P001', 'P002', 'P003', 'P004', 'P005'], size=300)\n",
    "product_categories = np.random.choice(['Electrónica', 'Ropa', 'Hogar', 'Alimentos', 'Deportes'], size=300)\n",
    "quantity_sold = np.random.randint(1, 10, size=300)\n",
    "unit_price = np.random.uniform(10, 200, size=300).round(2)\n",
    "total_sale = quantity_sold * unit_price\n",
    "order_dates = pd.date_range('2024-01-01', periods=300, freq='D')\n",
    "customer_regions = np.random.choice(['Norte', 'Sur', 'Este', 'Oeste'], size=300)\n",
    "\n",
    "# Crear el DataFrame\n",
    "data = {\n",
    "    'OrderID': order_ids,\n",
    "    'ProductID': product_ids,\n",
    "    'ProductCategory': product_categories,\n",
    "    'QuantitySold': quantity_sold,\n",
    "    'UnitPrice': unit_price,\n",
    "    'TotalSale': total_sale,\n",
    "    'OrderDate': order_dates,\n",
    "    'CustomerRegion': customer_regions\n",
    "}\n",
    "\n",
    "df_sales = pd.DataFrame(data)\n",
    "df_sales.to_csv('./csv/sales.csv',index=False)\n",
    "# Mostrar las primeras filas\n",
    "df_sales.head()"
   ]
  }
 ],
 "metadata": {
  "kernelspec": {
   "display_name": "base",
   "language": "python",
   "name": "python3"
  },
  "language_info": {
   "name": "python",
   "version": "3.12.4"
  }
 },
 "nbformat": 4,
 "nbformat_minor": 2
}
